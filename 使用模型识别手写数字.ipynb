{
 "cells": [
  {
   "cell_type": "code",
   "execution_count": 1,
   "metadata": {},
   "outputs": [],
   "source": [
    "from PIL import Image\n",
    "import numpy as np\n",
    "import matplotlib.pyplot as plt\n",
    "import tensorflow as tf\n"
   ]
  },
  {
   "cell_type": "code",
   "execution_count": 2,
   "metadata": {},
   "outputs": [],
   "source": [
    "model_path=\".//models//LeNet.h5\"\n",
    "model_path2=\".//models//shouxie.h5\"\n",
    "lenet = tf.keras.models.load_model(model_path)\n",
    "shouxie=tf.keras.models.load_model(model_path2)"
   ]
  },
  {
   "cell_type": "code",
   "execution_count": 3,
   "metadata": {},
   "outputs": [
    {
     "name": "stdout",
     "output_type": "stream",
     "text": [
      "(28, 28, 1)\n",
      "(1, 28, 28, 1)\n",
      "8\n",
      "3\n"
     ]
    },
    {
     "data": {
      "image/png": "[encoded data removed]",
      "text/plain": [
       "<Figure size 432x288 with 1 Axes>"
      ]
     },
     "metadata": {
      "needs_background": "light"
     },
     "output_type": "display_data"
    }
   ],
   "source": [
    "number = Image.open(\"数字0.jpg\").convert(\"L\")\n",
    "plt.imshow(number, cmap=\"gray\")\n",
    "\n",
    "image = tf.keras.preprocessing.image.img_to_array(number)\n",
    "\n",
    "print(image.shape)\n",
    "\n",
    "image = np.expand_dims(image, axis=0)\n",
    "print(image.shape)\n",
    "\n",
    "pred = lenet.predict(image)\n",
    "pred = np.argmax(pred)\n",
    "\n",
    "pred2 = shouxie.predict(image)\n",
    "pred2 = np.argmax(pred2)\n",
    "\n",
    "print(pred)\n",
    "print(pred2)\n"
   ]
  },
  {
   "cell_type": "code",
   "execution_count": 4,
   "metadata": {},
   "outputs": [
    {
     "name": "stdout",
     "output_type": "stream",
     "text": [
      "(28, 28, 1)\n",
      "(1, 28, 28, 1)\n",
      "8\n",
      "8\n"
     ]
    },
    {
     "data": {
      "image/png": "[encoded data removed]",
      "text/plain": [
       "<Figure size 432x288 with 1 Axes>"
      ]
     },
     "metadata": {
      "needs_background": "light"
     },
     "output_type": "display_data"
    }
   ],
   "source": [
    "number8 = Image.open(\"数字8.jpg\").convert(\"L\")\n",
    "plt.imshow(number8,cmap=\"gray\")\n",
    "\n",
    "image = tf.keras.preprocessing.image.img_to_array(number8)\n",
    "print(image.shape)\n",
    "\n",
    "image = np.expand_dims(image, axis=0)\n",
    "print(image.shape)\n",
    "\n",
    "pred = lenet.predict(image)\n",
    "pred = np.argmax(pred)\n",
    "\n",
    "pred2 = shouxie.predict(image)\n",
    "pred2 = np.argmax(pred2)\n",
    "\n",
    "print(pred)\n",
    "print(pred2)\n"
   ]
  }
 ],
 "metadata": {
  "interpreter": {
   "hash": "1ef077abf267dc5c8457b93b3eda29ede9f7894a151344125df13eb4338cc11a"
  },
  "kernelspec": {
   "display_name": "Python 3.8.12 64-bit ('tf2': conda)",
   "language": "python",
   "name": "python3"
  },
  "language_info": {
   "codemirror_mode": {
    "name": "ipython",
    "version": 3
   },
   "file_extension": ".py",
   "mimetype": "text/x-python",
   "name": "python",
   "nbconvert_exporter": "python",
   "pygments_lexer": "ipython3",
   "version": "3.8.12"
  },
  "orig_nbformat": 4
 },
 "nbformat": 4,
 "nbformat_minor": 2
}
