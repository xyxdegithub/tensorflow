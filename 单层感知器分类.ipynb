{
 "cells": [
  {
   "cell_type": "code",
   "execution_count": 21,
   "metadata": {},
   "outputs": [],
   "source": [
    "import numpy as np\n",
    "import matplotlib.pyplot as plt"
   ]
  },
  {
   "cell_type": "code",
   "execution_count": 22,
   "metadata": {},
   "outputs": [
    {
     "name": "stdout",
     "output_type": "stream",
     "text": [
      "[[0.055868  ]\n",
      " [0.10830053]\n",
      " [0.77935194]]\n"
     ]
    }
   ],
   "source": [
    "#输入数据\n",
    "x = np.array([[1, 3, 3], [1, 4, 3], [1, 1, 1], [1, 2, 1]])\n",
    "#数据标签\n",
    "t = np.array([[1], [1], [-1], [-1]])\n",
    "lr = 0.1\n",
    "#随机初始化权重\n",
    "w = np.random.random((3,1))\n",
    "print(w)\n"
   ]
  },
  {
   "cell_type": "code",
   "execution_count": 23,
   "metadata": {},
   "outputs": [],
   "source": [
    "def train():\n",
    "    global w\n",
    "    y=np.sign(np.dot(x,w))\n",
    "    #print(y)\n",
    "    loss=t-y\n",
    "    \n",
    "    delta_w=lr*np.dot(x.T,loss)/x.shape[0]\n",
    "    \n",
    "    w=w+delta_w\n",
    "    # print(w)\n",
    "\n",
    "    \n",
    "# train()\n"
   ]
  },
  {
   "cell_type": "code",
   "execution_count": 24,
   "metadata": {},
   "outputs": [
    {
     "name": "stdout",
     "output_type": "stream",
     "text": [
      "epoch： 1\n",
      "权值为： [[-0.044132  ]\n",
      " [-0.04169947]\n",
      " [ 0.67935194]]\n",
      "预测值为： [[1.]\n",
      " [1.]\n",
      " [1.]\n",
      " [1.]]\n",
      "epoch： 2\n",
      "权值为： [[-0.144132  ]\n",
      " [-0.19169947]\n",
      " [ 0.57935194]]\n",
      "预测值为： [[1.]\n",
      " [1.]\n",
      " [1.]\n",
      " [1.]]\n",
      "epoch： 3\n",
      "权值为： [[-0.244132  ]\n",
      " [-0.34169947]\n",
      " [ 0.47935194]]\n",
      "预测值为： [[ 1.]\n",
      " [-1.]\n",
      " [-1.]\n",
      " [-1.]]\n",
      "epoch： 4\n",
      "权值为： [[-0.194132  ]\n",
      " [-0.14169947]\n",
      " [ 0.62935194]]\n",
      "预测值为： [[1.]\n",
      " [1.]\n",
      " [1.]\n",
      " [1.]]\n",
      "epoch： 5\n",
      "权值为： [[-0.294132  ]\n",
      " [-0.29169947]\n",
      " [ 0.52935194]]\n",
      "预测值为： [[ 1.]\n",
      " [ 1.]\n",
      " [-1.]\n",
      " [-1.]]\n",
      "训练完成\n"
     ]
    }
   ],
   "source": [
    "for i in range(10):\n",
    "    train()\n",
    "    print(\"epoch：\",i+1)\n",
    "    \n",
    "    print(\"权值为：\",w)\n",
    "    y = np.sign(np.dot(x, w))\n",
    "    print(\"预测值为：\",y)\n",
    "    if(t==y).all():\n",
    "        print(\"训练完成\")\n",
    "        break\n"
   ]
  }
 ],
 "metadata": {
  "interpreter": {
   "hash": "cebe899cf4387cd175a0e03a78a3467464b4073f7d84d054c467d66bb834bdb7"
  },
  "kernelspec": {
   "display_name": "Python 3.8.0 64-bit ('tf2-gpu': conda)",
   "language": "python",
   "name": "python3"
  },
  "language_info": {
   "codemirror_mode": {
    "name": "ipython",
    "version": 3
   },
   "file_extension": ".py",
   "mimetype": "text/x-python",
   "name": "python",
   "nbconvert_exporter": "python",
   "pygments_lexer": "ipython3",
   "version": "3.8.0"
  },
  "orig_nbformat": 4
 },
 "nbformat": 4,
 "nbformat_minor": 2
}
