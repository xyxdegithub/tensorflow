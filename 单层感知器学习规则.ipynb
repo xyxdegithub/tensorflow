{
 "cells": [
  {
   "cell_type": "code",
   "execution_count": 33,
   "metadata": {},
   "outputs": [],
   "source": [
    "import numpy as np\n",
    "import tensorflow as tf"
   ]
  },
  {
   "cell_type": "markdown",
   "metadata": {},
   "source": [
    "y=wx+b,y再经过激活函数"
   ]
  },
  {
   "cell_type": "code",
   "execution_count": 34,
   "metadata": {},
   "outputs": [],
   "source": [
    "def method1():\n",
    "    x1 = 1\n",
    "    x2 = 0\n",
    "    x3 = -1\n",
    "    w1 = -5\n",
    "    w2 = 0\n",
    "    w3 = 0\n",
    "    t = 1\n",
    "    learnRate = 1\n",
    "    b = 0\n",
    "    #更新权重\n",
    "    for i in range(10):\n",
    "        print(\"w1:%s w2:%s w3: %s\" % (w1, w2, w3))\n",
    "        y = np.sign(w1 * x1 + w2 * x2 + w3 * x3 + b)\n",
    "        if (y != t):\n",
    "            w1 = w1 + learnRate * (t - y) * x1\n",
    "            w2 = w2 + learnRate * (t - y) * x2\n",
    "            w3 = w3 + learnRate * (t - y) * x3\n",
    "        else:\n",
    "            print(\"训练结束\")\n",
    "            break\n",
    "\n",
    "\n",
    "def method2():\n",
    "    x = np.array([[1, 0, -1]])  #一行三列\n",
    "    w = np.array([[-5], [0], [0]])  #三行一列\n",
    "    b = 0\n",
    "    learnRate = 1\n",
    "    t = 1\n",
    "    for i in range(10):\n",
    "        print(\"标签值为：\", t)\n",
    "        print(\"函数权重为：\", w)\n",
    "        y = np.sign(np.dot(x, w) + b)\n",
    "        print(\"训练预测值为：\", y)\n",
    "        if (t != y):\n",
    "            w = w + learnRate * (t - y) * x.T\n",
    "        else:\n",
    "            print(\"训练完成\")\n",
    "            break\n",
    "\n",
    "\n",
    "def method3():\n",
    "    x = tf.constant([[1, 0, -1]])\n",
    "    w = tf.constant([[-5], [0], [0]])\n",
    "    learnRate = 1\n",
    "    t = 1\n",
    "    b = 0\n",
    "    for i in range(10):\n",
    "        print(\"标签值为：\", t)\n",
    "        print(\"函数权重为：\", w)\n",
    "        y = tf.sign(tf.matmul(x, w) + b)\n",
    "        if (t != y):\n",
    "            w = w + learnRate * (t - y) * tf.reshape(x, (3, 1))\n",
    "        else:\n",
    "            print(\"训练完成\")\n",
    "            break\n"
   ]
  },
  {
   "cell_type": "code",
   "execution_count": 41,
   "metadata": {},
   "outputs": [
    {
     "name": "stdout",
     "output_type": "stream",
     "text": [
      "标签值为： 1\n",
      "函数权重为： [[-5]\n",
      " [ 0]\n",
      " [ 0]]\n",
      "训练预测值为： [[-1]]\n",
      "标签值为： 1\n",
      "函数权重为： [[-3]\n",
      " [ 0]\n",
      " [-2]]\n",
      "训练预测值为： [[-1]]\n",
      "标签值为： 1\n",
      "函数权重为： [[-1]\n",
      " [ 0]\n",
      " [-4]]\n",
      "训练预测值为： [[1]]\n",
      "训练完成\n"
     ]
    }
   ],
   "source": [
    "method2()"
   ]
  },
  {
   "cell_type": "code",
   "execution_count": 42,
   "metadata": {},
   "outputs": [
    {
     "name": "stdout",
     "output_type": "stream",
     "text": [
      "标签值为： 1\n",
      "函数权重为： tf.Tensor(\n",
      "[[-5]\n",
      " [ 0]\n",
      " [ 0]], shape=(3, 1), dtype=int32)\n",
      "标签值为： 1\n",
      "函数权重为： tf.Tensor(\n",
      "[[-3]\n",
      " [ 0]\n",
      " [-2]], shape=(3, 1), dtype=int32)\n",
      "标签值为： 1\n",
      "函数权重为： tf.Tensor(\n",
      "[[-1]\n",
      " [ 0]\n",
      " [-4]], shape=(3, 1), dtype=int32)\n",
      "训练完成\n"
     ]
    }
   ],
   "source": [
    "method3()"
   ]
  }
 ],
 "metadata": {
  "interpreter": {
   "hash": "cebe899cf4387cd175a0e03a78a3467464b4073f7d84d054c467d66bb834bdb7"
  },
  "kernelspec": {
   "display_name": "Python 3.8.0 64-bit ('tf2-gpu': conda)",
   "language": "python",
   "name": "python3"
  },
  "language_info": {
   "codemirror_mode": {
    "name": "ipython",
    "version": 3
   },
   "file_extension": ".py",
   "mimetype": "text/x-python",
   "name": "python",
   "nbconvert_exporter": "python",
   "pygments_lexer": "ipython3",
   "version": "3.8.0"
  },
  "orig_nbformat": 4
 },
 "nbformat": 4,
 "nbformat_minor": 2
}
