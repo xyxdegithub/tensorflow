{
 "cells": [
  {
   "cell_type": "code",
   "execution_count": 1,
   "metadata": {},
   "outputs": [],
   "source": [
    "import matplotlib.pyplot as plt\n",
    "import numpy as np\n",
    "import tensorflow as tf\n",
    "from tensorflow.keras.layers import Conv2D, BatchNormalization, Activation, MaxPool2D, AvgPool2D, Dropout, Flatten, Dense\n",
    "from tensorflow.keras import Model"
   ]
  },
  {
   "cell_type": "code",
   "execution_count": 2,
   "metadata": {},
   "outputs": [],
   "source": [
    "#导入手写数字集\n",
    "mnist=tf.keras.datasets.mnist\n",
    "(x_train,y_train),(x_test,y_test)=mnist.load_data()"
   ]
  },
  {
   "cell_type": "code",
   "execution_count": 3,
   "metadata": {},
   "outputs": [
    {
     "name": "stdout",
     "output_type": "stream",
     "text": [
      "(60000, 28, 28)\n",
      "(60000,)\n"
     ]
    }
   ],
   "source": [
    "print(x_train.shape)\n",
    "print(y_train.shape)"
   ]
  },
  {
   "cell_type": "code",
   "execution_count": 4,
   "metadata": {},
   "outputs": [],
   "source": [
    "x_train, x_test = x_train/255.0, x_test/255.0\n",
    "\n",
    "x_train = x_train.reshape((60000, 28, 28, 1))\n",
    "x_test = x_test.reshape((10000, 28, 28, 1))\n",
    "\n",
    "devices=tf.config.list_physical_devices(\"GPU\")\n",
    "tf.config.experimental.set_memory_growth(devices[0],True)"
   ]
  },
  {
   "cell_type": "code",
   "execution_count": 5,
   "metadata": {},
   "outputs": [],
   "source": [
    "# 创建LeNet\n",
    "# class LeNet(Model):\n",
    "#     def __init__(self):\n",
    "#         super(LeNet, self).__init__()\n",
    "#         #两层卷积\n",
    "#         self.c1 = Conv2D(filters=6, kernel_size=(\n",
    "#             5, 5), padding=\"same\", activation=\"relu\")\n",
    "#         self.p1 = AvgPool2D(pool_size=(2, 2), strides=2)\n",
    "#         #self.d1=Dropout(0.2)\n",
    "#         self.c2 = Conv2D(filters=16, kernel_size=(5, 5), activation=\"relu\")\n",
    "#         self.p2 = AvgPool2D(pool_size=(2, 2), strides=2)\n",
    "#         #self.d2=Dropout(0.2)\n",
    "#         #三层全连接\n",
    "#         self.flatten = Flatten()\n",
    "#         self.f1 = Dense(120, activation=\"relu\")\n",
    "#         self.f2 = Dense(84, activation=\"relu\")\n",
    "#         self.f3 = Dense(10, activation=\"softmax\")\n",
    "\n",
    "#     def call(self, input_shape):\n",
    "\n",
    "#         x = self.c1(input_shape)\n",
    "#         x = self.p1(x)\n",
    "#         #x=self.d1(x)\n",
    "#         x = self.c2(x)\n",
    "#         x = self.p2(x)\n",
    "#         #x=self.d2(x)\n",
    "#         x = self.flatten(x)\n",
    "#         x = self.f1(x)\n",
    "#         x = self.f2(x)\n",
    "#         y = self.f3(x)\n",
    "#         return y\n",
    "\n",
    "model = tf.keras.models.Sequential(\n",
    "    [Conv2D(filters=6, kernel_size=(5, 5), padding=\"same\", activation=\"relu\"),\n",
    "     AvgPool2D(pool_size=(2, 2), strides=2),\n",
    "     Conv2D(filters=16, kernel_size=(5, 5), activation=\"relu\"),\n",
    "     AvgPool2D(pool_size=(2, 2), strides=2),\n",
    "\n",
    "     #Conv2D(filters=120, kernel_size=(5, 5), activation=\"relu\"),\n",
    "\n",
    "     Flatten(),\n",
    "     Dense(120, activation=\"relu\"),\n",
    "     Dense(84, activation=\"relu\"),\n",
    "     Dense(10, activation=\"softmax\")]\n",
    ")\n"
   ]
  },
  {
   "cell_type": "code",
   "execution_count": 6,
   "metadata": {},
   "outputs": [],
   "source": [
    "#model = LeNet()\n",
    "\n",
    "model.compile(optimizer=\"sgd\",\n",
    "              loss=tf.keras.losses.SparseCategoricalCrossentropy(from_logits=False),\n",
    "              metrics=[\"accuracy\"]\n",
    "              )\n"
   ]
  },
  {
   "cell_type": "code",
   "execution_count": 7,
   "metadata": {},
   "outputs": [
    {
     "name": "stdout",
     "output_type": "stream",
     "text": [
      "Epoch 1/5\n",
      "7500/7500 [==============================] - 22s 2ms/step - loss: 0.3114 - accuracy: 0.9040 - val_loss: 0.1060 - val_accuracy: 0.9674\n",
      "Epoch 2/5\n",
      "7500/7500 [==============================] - 18s 2ms/step - loss: 0.0976 - accuracy: 0.9702 - val_loss: 0.0684 - val_accuracy: 0.9783\n",
      "Epoch 3/5\n",
      "7500/7500 [==============================] - 18s 2ms/step - loss: 0.0695 - accuracy: 0.9779 - val_loss: 0.0526 - val_accuracy: 0.9819\n",
      "Epoch 4/5\n",
      "7500/7500 [==============================] - 18s 2ms/step - loss: 0.0552 - accuracy: 0.9827 - val_loss: 0.0480 - val_accuracy: 0.9858\n",
      "Epoch 5/5\n",
      "7500/7500 [==============================] - 19s 2ms/step - loss: 0.0452 - accuracy: 0.9854 - val_loss: 0.0477 - val_accuracy: 0.9843\n"
     ]
    }
   ],
   "source": [
    "\n",
    "model_result = model.fit(x_train, y_train, batch_size=8, epochs=5,\n",
    "                           validation_data=(x_test, y_test), validation_freq=1)\n"
   ]
  },
  {
   "cell_type": "code",
   "execution_count": 8,
   "metadata": {},
   "outputs": [
    {
     "name": "stdout",
     "output_type": "stream",
     "text": [
      "Model: \"sequential\"\n",
      "_________________________________________________________________\n",
      "Layer (type)                 Output Shape              Param #   \n",
      "=================================================================\n",
      "conv2d (Conv2D)              (8, 28, 28, 6)            156       \n",
      "_________________________________________________________________\n",
      "average_pooling2d (AveragePo (8, 14, 14, 6)            0         \n",
      "_________________________________________________________________\n",
      "conv2d_1 (Conv2D)            (8, 10, 10, 16)           2416      \n",
      "_________________________________________________________________\n",
      "average_pooling2d_1 (Average (8, 5, 5, 16)             0         \n",
      "_________________________________________________________________\n",
      "flatten (Flatten)            (8, 400)                  0         \n",
      "_________________________________________________________________\n",
      "dense (Dense)                (8, 120)                  48120     \n",
      "_________________________________________________________________\n",
      "dense_1 (Dense)              (8, 84)                   10164     \n",
      "_________________________________________________________________\n",
      "dense_2 (Dense)              (8, 10)                   850       \n",
      "=================================================================\n",
      "Total params: 61,706\n",
      "Trainable params: 61,706\n",
      "Non-trainable params: 0\n",
      "_________________________________________________________________\n"
     ]
    }
   ],
   "source": [
    "model.save(\".//models//LeNet.h5\")\n",
    "model.summary()"
   ]
  },
  {
   "cell_type": "code",
   "execution_count": 9,
   "metadata": {},
   "outputs": [],
   "source": [
    "#设置黑体为默认字体\n",
    "plt.rcParams[\"font.sans-serif\"] = \"SimHei\"\n",
    "#设置正常显示负号\n",
    "plt.rcParams[\"axes.unicode_minus\"] = False"
   ]
  },
  {
   "cell_type": "code",
   "execution_count": 10,
   "metadata": {},
   "outputs": [
    {
     "data": {
      "image/png": "[encoded data removed]",
      "text/plain": [
       "<Figure size 432x432 with 1 Axes>"
      ]
     },
     "metadata": {
      "needs_background": "light"
     },
     "output_type": "display_data"
    }
   ],
   "source": [
    "#训练和测试时的损失函数\n",
    "train_loss=model_result.history[\"loss\"]\n",
    "val_loss=model_result.history[\"val_loss\"]\n",
    "plt.figure(figsize=(6,6))\n",
    "plt.xlabel(\"Epoch\")\n",
    "plt.ylabel(\"loss\")\n",
    "plt.plot(train_loss,label=\"train_loss\")\n",
    "plt.plot(val_loss,label=\"val_loss\")\n",
    "plt.title(\"损失函数曲线图\",fontsize=20)\n",
    "plt.legend()\n",
    "plt.show()"
   ]
  },
  {
   "cell_type": "code",
   "execution_count": 11,
   "metadata": {},
   "outputs": [
    {
     "data": {
      "image/png": "[encoded data removed]",
      "text/plain": [
       "<Figure size 432x432 with 1 Axes>"
      ]
     },
     "metadata": {
      "needs_background": "light"
     },
     "output_type": "display_data"
    }
   ],
   "source": [
    "#训练和测试时的准确率\n",
    "train_acc=model_result.history[\"accuracy\"]\n",
    "val_acc=model_result.history[\"val_accuracy\"]\n",
    "plt.figure(figsize=(6,6))\n",
    "plt.xlabel(\"Epoch\")\n",
    "plt.ylabel(\"准确率\")\n",
    "plt.plot(train_acc,label=\"train_acc\")\n",
    "plt.plot(val_acc,label=\"val_acc\")\n",
    "plt.title(\"准确率曲线图\",fontsize=20)\n",
    "plt.legend()\n",
    "plt.show()"
   ]
  },
  {
   "cell_type": "code",
   "execution_count": 12,
   "metadata": {},
   "outputs": [
    {
     "name": "stdout",
     "output_type": "stream",
     "text": [
      "6\n",
      "(28, 28, 1)\n"
     ]
    },
    {
     "data": {
      "text/plain": [
       "(1, 28, 28, 1)"
      ]
     },
     "execution_count": 12,
     "metadata": {},
     "output_type": "execute_result"
    }
   ],
   "source": [
    "#识别判断\n",
    "new_image = x_test[100]\n",
    "print(y_test[100])\n",
    "new_image = tf.keras.preprocessing.image.img_to_array(new_image)\n",
    "print(new_image.shape)\n",
    "new_image = np.expand_dims(new_image, axis = 0)\n",
    "new_image.shape"
   ]
  },
  {
   "cell_type": "code",
   "execution_count": 13,
   "metadata": {},
   "outputs": [
    {
     "data": {
      "text/plain": [
       "6"
      ]
     },
     "execution_count": 13,
     "metadata": {},
     "output_type": "execute_result"
    }
   ],
   "source": [
    "pred=model.predict(new_image)\n",
    "pred=np.argmax(pred)\n",
    "pred"
   ]
  }
 ],
 "metadata": {
  "interpreter": {
   "hash": "1ef077abf267dc5c8457b93b3eda29ede9f7894a151344125df13eb4338cc11a"
  },
  "kernelspec": {
   "display_name": "Python 3.8.12 64-bit ('tf2': conda)",
   "language": "python",
   "name": "python3"
  },
  "language_info": {
   "codemirror_mode": {
    "name": "ipython",
    "version": 3
   },
   "file_extension": ".py",
   "mimetype": "text/x-python",
   "name": "python",
   "nbconvert_exporter": "python",
   "pygments_lexer": "ipython3",
   "version": "3.8.0"
  },
  "orig_nbformat": 4
 },
 "nbformat": 4,
 "nbformat_minor": 2
}
